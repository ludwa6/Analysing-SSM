{
 "cells": [
  {
   "cell_type": "markdown",
   "metadata": {},
   "source": [
    "## Soil Sensor deployment at farm scale: a feasibility analysis\n",
    "_Q: Can such consumer technology be used for remote sensing at farm scale? With positive ROI?_\n",
    "\n",
    "![img source](https://i.imgur.com/bknlfCOh.jpg)"
   ]
  },
  {
   "cell_type": "markdown",
   "metadata": {},
   "source": [
    "### Focus: Research question(s) and scope\n",
    "Per the __context__ defined in the [README document](README.md), the focus of this first test is to understand (with minimal investment of time) the given technology, essentially:\n",
    "\n",
    "1. the Flower Power Soil sensor;\n",
    "2. the Flower Power app for iPhone;\n",
    "3. the data files that flow from iPhone app to cloud, and back to user desktop via Python script developed & maintained by GROW Observatory; and\n",
    "4. the GROW observatory hub website, as a source of end-user information and support.\n",
    "\n",
    "![img source](https://i.imgur.com/RdGdMxEh.jpg)\n",
    "![img source](https://i.imgur.com/BPCkrhuh.jpg)\n",
    "\n",
    "Given that: \n",
    "\n",
    "- The Flower Power sensor and app (see images above, as deployed in the first equipement check) work together essentially as advertised, though there are some doubts about hardware and software robustness and support [1]; \n",
    "- The [GROW Observatory website](https://hub.growobservatory.org/my-data/sensors/) (NB: login required) gives a somewhat useful but limited view of sensor data (see image just below[2]) and [discussion forums](https://hub.growobservatory.org/discussions) that have yet to shape-up into a very useful source of collegial exchange/ support.\n",
    "\n",
    "![img source](https://i.imgur.com/l2XOgOGh.png)\n",
    "\n",
    "Moreover: Full deployment of 320 sensors in the manner prescribed by GROW (in [end-user documentation](GROW-Training-Manual.pdf)), including maintenance of devices in the field (assuming some non-zero failure rate, and battery change every 6 months) along with periodic (biweekly is prescribed) data acquisition and uploading for the (3 years) duration of project will require a significant investment on part of this GROW site.\n",
    "\n",
    "So: Our focus at this point is on the data files -now holding raw data uploaded from all our sensors, downloadable on demand as a set of .csv files (one per sensor) - and figuring out how the information held in these files can be leveraged to add value to our farm operations.\n",
    "\n",
    "**Preliminary Questions**: A few assumptions that must be validated before we can do anything useful with this data, i.e.:\n",
    "- DataFlow: Can we in fact download the data easily enough, in a form that we can work with using Pandas? (a Python library: as Python is the language of data tranfer script, we choose that over R, although that is also a good choice for data munging/ analysis);\n",
    "- Data Model: What indicators are available for tracking? Using what units of measure? Can records be correlated, as time-series data, with data from other sources (e.g. local weather)?\n",
    "- Data Latency:  From time of upload, how quickly is data available for download?  And what if any is the maxium latency between time-stamp of last record, and time of data upload?\n",
    "- Data Integrity: Is the data complete (since sensor boot-up time, with no null values) and accurate (does it appear to make sense, as compared with what's known about local conditions)?\n",
    "\n",
    "SCOPE: For the purposes of this preliminary analysis, data from one sensor (deployed on August 20 in the rain-fed uncultivated zone near top of the farm) will be sufficient.  Data from several additional sensors that have since been implanted will be included in subsequent analysis (test2), once the questions above have been answered."
   ]
  },
  {
   "cell_type": "markdown",
   "metadata": {},
   "source": [
    "### Data Import & Hygiene\n",
    "Having downloaded the data (easily enough, using the python script supplied by GROW observatory tech support), the first step is to import our data -along with any tools needed to process it- and run a few basic checks:"
   ]
  },
  {
   "cell_type": "code",
   "execution_count": 14,
   "metadata": {},
   "outputs": [
    {
     "name": "stdout",
     "output_type": "stream",
     "text": [
      "Pandas version  0.23.4\n",
      "Number of Rows, Columns =  (8636, 7)\n",
      "Column Headers:  Index(['NickName', 'serial_number', 'capture_datetime_utc', 'fertilizer_level',\n",
      "       'light', 'soil_moisture_percent', 'air_temperature_celsius'],\n",
      "      dtype='object')\n",
      "Datatype of index =  <class 'int'>\n"
     ]
    }
   ],
   "source": [
    "import pandas as pd   #load the analytics software library\n",
    "df=pd.read_csv(\"./sensor_data_2/Flower power 9417.csv\")   # Import the .csv datafile from the \"test1\" sensor\n",
    "print(\"Pandas version \",pd.__version__)  # confirm software version, to help ensure reproducibility of results\n",
    "print(\"Number of Rows, Columns = \",df.shape)  #to know the depth & scope of dataframe\n",
    "print(\"Column Headers: \",df.columns)  # to see names of column headers\n",
    "print(\"Datatype of index = \",type(df.index[0]))  # to confirm datatype of the index"
   ]
  },
  {
   "cell_type": "markdown",
   "metadata": {},
   "source": [
    "**At first glance:** Considering 6723 records (which pandas ingested without a burp) from a single sensor over <10 weeks... This indicates a pretty hi-frequency sampling interval.\n",
    "Moreover: If datetime is taken as the 1st column, with an index column of type integer outside that frame, this means that pandas is using its own assigned sequential as the index... But that does not support our purposes so well.\n",
    "What we want is to treat this as time-series data, so that we can corelate data from different sources (i.e. sensors [2] -but also local weather data, and perhaps weather & sensor data from other GROW sites) along the axis of time.\n",
    "So: we will create a script to take the datetime field as our index, first converting it to the \"Timestamp\" datatype, which lets us leverage some powewrful methods that pandas ascribes to this datatype."
   ]
  },
  {
   "cell_type": "code",
   "execution_count": 15,
   "metadata": {},
   "outputs": [
    {
     "name": "stdout",
     "output_type": "stream",
     "text": [
      "Number of Rows, Columns =  (8636, 6)\n",
      "Column Headers:  Index(['NickName', 'serial_number', 'fertilizer_level', 'light',\n",
      "       'soil_moisture_percent', 'air_temperature_celsius'],\n",
      "      dtype='object')\n",
      "Datatype of index =  <class 'pandas._libs.tslibs.timestamps.Timestamp'>\n",
      "Check dataframe for null values:  False\n"
     ]
    }
   ],
   "source": [
    "# re-Import the .csv datafile from the \"test1\" sensor, \n",
    "# convert the \"capture_datetime_utc\" column to parse those strings into useful datetime format\n",
    "# change index to be that column (versus the assigned ID that is pandas default)\n",
    "\n",
    "df=pd.read_csv(\"./sensor_data_2/Flower power 9417.csv\",parse_dates=[\"capture_datetime_utc\"], index_col=\"capture_datetime_utc\")\n",
    "\n",
    "# now ask pandas again to confirm details specified above, i.e.:\n",
    "print(\"Number of Rows, Columns = \",df.shape)  #to know the depth & scope of dataframe\n",
    "print(\"Column Headers: \",df.columns)  # to see names of column headers\n",
    "print(\"Datatype of index = \",type(df.index[0]))  # to confirm datatype of the index\n",
    "print(\"Check dataframe for null values: \",df.isnull().values.any())"
   ]
  },
  {
   "cell_type": "markdown",
   "metadata": {},
   "source": [
    "**CHECK:** As proved by these 4 reports, Pandas has fixed the dataframe as requested, and it is complete (i.e. devoid of null values).  So we can proceed to explore the data in more depth.\n",
    "\n",
    "### Exploring the Data\n",
    "\n",
    "As usual for a dataframe of any size too large for human comprehension, we'll do three things:\n",
    "- inspect the first few records\n",
    "- inspect the last few records\n",
    "- run the \"describe\" method, which provides a few key Descriptive Statistics"
   ]
  },
  {
   "cell_type": "code",
   "execution_count": 16,
   "metadata": {},
   "outputs": [
    {
     "data": {
      "text/html": [
       "<div>\n",
       "<style scoped>\n",
       "    .dataframe tbody tr th:only-of-type {\n",
       "        vertical-align: middle;\n",
       "    }\n",
       "\n",
       "    .dataframe tbody tr th {\n",
       "        vertical-align: top;\n",
       "    }\n",
       "\n",
       "    .dataframe thead th {\n",
       "        text-align: right;\n",
       "    }\n",
       "</style>\n",
       "<table border=\"1\" class=\"dataframe\">\n",
       "  <thead>\n",
       "    <tr style=\"text-align: right;\">\n",
       "      <th></th>\n",
       "      <th>NickName</th>\n",
       "      <th>serial_number</th>\n",
       "      <th>fertilizer_level</th>\n",
       "      <th>light</th>\n",
       "      <th>soil_moisture_percent</th>\n",
       "      <th>air_temperature_celsius</th>\n",
       "    </tr>\n",
       "    <tr>\n",
       "      <th>capture_datetime_utc</th>\n",
       "      <th></th>\n",
       "      <th></th>\n",
       "      <th></th>\n",
       "      <th></th>\n",
       "      <th></th>\n",
       "      <th></th>\n",
       "    </tr>\n",
       "  </thead>\n",
       "  <tbody>\n",
       "    <tr>\n",
       "      <th>2018-08-16 18:35:40</th>\n",
       "      <td>Flower power 9417</td>\n",
       "      <td>PI040298AD5I211342</td>\n",
       "      <td>-1.0</td>\n",
       "      <td>9.55</td>\n",
       "      <td>7.77</td>\n",
       "      <td>28.20</td>\n",
       "    </tr>\n",
       "    <tr>\n",
       "      <th>2018-08-16 18:50:40</th>\n",
       "      <td>Flower power 9417</td>\n",
       "      <td>PI040298AD5I211342</td>\n",
       "      <td>-1.0</td>\n",
       "      <td>4.00</td>\n",
       "      <td>7.39</td>\n",
       "      <td>24.11</td>\n",
       "    </tr>\n",
       "    <tr>\n",
       "      <th>2018-08-16 19:05:40</th>\n",
       "      <td>Flower power 9417</td>\n",
       "      <td>PI040298AD5I211342</td>\n",
       "      <td>-1.0</td>\n",
       "      <td>1.98</td>\n",
       "      <td>7.89</td>\n",
       "      <td>23.10</td>\n",
       "    </tr>\n",
       "    <tr>\n",
       "      <th>2018-08-16 19:20:40</th>\n",
       "      <td>Flower power 9417</td>\n",
       "      <td>PI040298AD5I211342</td>\n",
       "      <td>-1.0</td>\n",
       "      <td>0.61</td>\n",
       "      <td>7.64</td>\n",
       "      <td>22.91</td>\n",
       "    </tr>\n",
       "    <tr>\n",
       "      <th>2018-08-16 19:35:40</th>\n",
       "      <td>Flower power 9417</td>\n",
       "      <td>PI040298AD5I211342</td>\n",
       "      <td>-1.0</td>\n",
       "      <td>0.10</td>\n",
       "      <td>7.89</td>\n",
       "      <td>22.44</td>\n",
       "    </tr>\n",
       "  </tbody>\n",
       "</table>\n",
       "</div>"
      ],
      "text/plain": [
       "                               NickName       serial_number  fertilizer_level  \\\n",
       "capture_datetime_utc                                                            \n",
       "2018-08-16 18:35:40   Flower power 9417  PI040298AD5I211342              -1.0   \n",
       "2018-08-16 18:50:40   Flower power 9417  PI040298AD5I211342              -1.0   \n",
       "2018-08-16 19:05:40   Flower power 9417  PI040298AD5I211342              -1.0   \n",
       "2018-08-16 19:20:40   Flower power 9417  PI040298AD5I211342              -1.0   \n",
       "2018-08-16 19:35:40   Flower power 9417  PI040298AD5I211342              -1.0   \n",
       "\n",
       "                      light  soil_moisture_percent  air_temperature_celsius  \n",
       "capture_datetime_utc                                                         \n",
       "2018-08-16 18:35:40    9.55                   7.77                    28.20  \n",
       "2018-08-16 18:50:40    4.00                   7.39                    24.11  \n",
       "2018-08-16 19:05:40    1.98                   7.89                    23.10  \n",
       "2018-08-16 19:20:40    0.61                   7.64                    22.91  \n",
       "2018-08-16 19:35:40    0.10                   7.89                    22.44  "
      ]
     },
     "execution_count": 16,
     "metadata": {},
     "output_type": "execute_result"
    }
   ],
   "source": [
    "df.head()   #or df.iloc[0:5] , gives first 5 records in either case"
   ]
  },
  {
   "cell_type": "code",
   "execution_count": 17,
   "metadata": {},
   "outputs": [
    {
     "data": {
      "text/html": [
       "<div>\n",
       "<style scoped>\n",
       "    .dataframe tbody tr th:only-of-type {\n",
       "        vertical-align: middle;\n",
       "    }\n",
       "\n",
       "    .dataframe tbody tr th {\n",
       "        vertical-align: top;\n",
       "    }\n",
       "\n",
       "    .dataframe thead th {\n",
       "        text-align: right;\n",
       "    }\n",
       "</style>\n",
       "<table border=\"1\" class=\"dataframe\">\n",
       "  <thead>\n",
       "    <tr style=\"text-align: right;\">\n",
       "      <th></th>\n",
       "      <th>NickName</th>\n",
       "      <th>serial_number</th>\n",
       "      <th>fertilizer_level</th>\n",
       "      <th>light</th>\n",
       "      <th>soil_moisture_percent</th>\n",
       "      <th>air_temperature_celsius</th>\n",
       "    </tr>\n",
       "    <tr>\n",
       "      <th>capture_datetime_utc</th>\n",
       "      <th></th>\n",
       "      <th></th>\n",
       "      <th></th>\n",
       "      <th></th>\n",
       "      <th></th>\n",
       "      <th></th>\n",
       "    </tr>\n",
       "  </thead>\n",
       "  <tbody>\n",
       "    <tr>\n",
       "      <th>2018-11-14 16:15:40</th>\n",
       "      <td>Flower power 9417</td>\n",
       "      <td>PI040298AD5I211342</td>\n",
       "      <td>1.03</td>\n",
       "      <td>8.54</td>\n",
       "      <td>19.74</td>\n",
       "      <td>21.41</td>\n",
       "    </tr>\n",
       "    <tr>\n",
       "      <th>2018-11-14 16:30:40</th>\n",
       "      <td>Flower power 9417</td>\n",
       "      <td>PI040298AD5I211342</td>\n",
       "      <td>1.03</td>\n",
       "      <td>6.93</td>\n",
       "      <td>19.50</td>\n",
       "      <td>20.88</td>\n",
       "    </tr>\n",
       "    <tr>\n",
       "      <th>2018-11-14 16:45:40</th>\n",
       "      <td>Flower power 9417</td>\n",
       "      <td>PI040298AD5I211342</td>\n",
       "      <td>1.03</td>\n",
       "      <td>4.76</td>\n",
       "      <td>19.50</td>\n",
       "      <td>20.50</td>\n",
       "    </tr>\n",
       "    <tr>\n",
       "      <th>2018-11-14 17:00:40</th>\n",
       "      <td>Flower power 9417</td>\n",
       "      <td>PI040298AD5I211342</td>\n",
       "      <td>1.03</td>\n",
       "      <td>2.63</td>\n",
       "      <td>19.37</td>\n",
       "      <td>19.77</td>\n",
       "    </tr>\n",
       "    <tr>\n",
       "      <th>2018-11-14 17:15:40</th>\n",
       "      <td>Flower power 9417</td>\n",
       "      <td>PI040298AD5I211342</td>\n",
       "      <td>1.03</td>\n",
       "      <td>1.09</td>\n",
       "      <td>19.62</td>\n",
       "      <td>18.98</td>\n",
       "    </tr>\n",
       "  </tbody>\n",
       "</table>\n",
       "</div>"
      ],
      "text/plain": [
       "                               NickName       serial_number  fertilizer_level  \\\n",
       "capture_datetime_utc                                                            \n",
       "2018-11-14 16:15:40   Flower power 9417  PI040298AD5I211342              1.03   \n",
       "2018-11-14 16:30:40   Flower power 9417  PI040298AD5I211342              1.03   \n",
       "2018-11-14 16:45:40   Flower power 9417  PI040298AD5I211342              1.03   \n",
       "2018-11-14 17:00:40   Flower power 9417  PI040298AD5I211342              1.03   \n",
       "2018-11-14 17:15:40   Flower power 9417  PI040298AD5I211342              1.03   \n",
       "\n",
       "                      light  soil_moisture_percent  air_temperature_celsius  \n",
       "capture_datetime_utc                                                         \n",
       "2018-11-14 16:15:40    8.54                  19.74                    21.41  \n",
       "2018-11-14 16:30:40    6.93                  19.50                    20.88  \n",
       "2018-11-14 16:45:40    4.76                  19.50                    20.50  \n",
       "2018-11-14 17:00:40    2.63                  19.37                    19.77  \n",
       "2018-11-14 17:15:40    1.09                  19.62                    18.98  "
      ]
     },
     "execution_count": 17,
     "metadata": {},
     "output_type": "execute_result"
    }
   ],
   "source": [
    "df.tail()  #last 5 records, to confirm timestamp of last update and continuity of update intervals"
   ]
  },
  {
   "cell_type": "code",
   "execution_count": 18,
   "metadata": {},
   "outputs": [
    {
     "data": {
      "text/html": [
       "<div>\n",
       "<style scoped>\n",
       "    .dataframe tbody tr th:only-of-type {\n",
       "        vertical-align: middle;\n",
       "    }\n",
       "\n",
       "    .dataframe tbody tr th {\n",
       "        vertical-align: top;\n",
       "    }\n",
       "\n",
       "    .dataframe thead th {\n",
       "        text-align: right;\n",
       "    }\n",
       "</style>\n",
       "<table border=\"1\" class=\"dataframe\">\n",
       "  <thead>\n",
       "    <tr style=\"text-align: right;\">\n",
       "      <th></th>\n",
       "      <th>fertilizer_level</th>\n",
       "      <th>light</th>\n",
       "      <th>soil_moisture_percent</th>\n",
       "      <th>air_temperature_celsius</th>\n",
       "    </tr>\n",
       "  </thead>\n",
       "  <tbody>\n",
       "    <tr>\n",
       "      <th>count</th>\n",
       "      <td>8636.000000</td>\n",
       "      <td>8636.000000</td>\n",
       "      <td>8636.000000</td>\n",
       "      <td>8636.000000</td>\n",
       "    </tr>\n",
       "    <tr>\n",
       "      <th>mean</th>\n",
       "      <td>-0.285321</td>\n",
       "      <td>15.222278</td>\n",
       "      <td>11.750742</td>\n",
       "      <td>23.677646</td>\n",
       "    </tr>\n",
       "    <tr>\n",
       "      <th>std</th>\n",
       "      <td>1.041114</td>\n",
       "      <td>23.981757</td>\n",
       "      <td>6.910631</td>\n",
       "      <td>8.397821</td>\n",
       "    </tr>\n",
       "    <tr>\n",
       "      <th>min</th>\n",
       "      <td>-1.000000</td>\n",
       "      <td>0.100000</td>\n",
       "      <td>6.160000</td>\n",
       "      <td>6.120000</td>\n",
       "    </tr>\n",
       "    <tr>\n",
       "      <th>25%</th>\n",
       "      <td>-1.000000</td>\n",
       "      <td>0.100000</td>\n",
       "      <td>6.900000</td>\n",
       "      <td>17.480000</td>\n",
       "    </tr>\n",
       "    <tr>\n",
       "      <th>50%</th>\n",
       "      <td>-1.000000</td>\n",
       "      <td>0.210000</td>\n",
       "      <td>7.270000</td>\n",
       "      <td>21.600000</td>\n",
       "    </tr>\n",
       "    <tr>\n",
       "      <th>75%</th>\n",
       "      <td>1.030000</td>\n",
       "      <td>20.772500</td>\n",
       "      <td>18.130000</td>\n",
       "      <td>29.970000</td>\n",
       "    </tr>\n",
       "    <tr>\n",
       "      <th>max</th>\n",
       "      <td>2.030000</td>\n",
       "      <td>151.870000</td>\n",
       "      <td>33.160000</td>\n",
       "      <td>47.800000</td>\n",
       "    </tr>\n",
       "  </tbody>\n",
       "</table>\n",
       "</div>"
      ],
      "text/plain": [
       "       fertilizer_level        light  soil_moisture_percent  \\\n",
       "count       8636.000000  8636.000000            8636.000000   \n",
       "mean          -0.285321    15.222278              11.750742   \n",
       "std            1.041114    23.981757               6.910631   \n",
       "min           -1.000000     0.100000               6.160000   \n",
       "25%           -1.000000     0.100000               6.900000   \n",
       "50%           -1.000000     0.210000               7.270000   \n",
       "75%            1.030000    20.772500              18.130000   \n",
       "max            2.030000   151.870000              33.160000   \n",
       "\n",
       "       air_temperature_celsius  \n",
       "count              8636.000000  \n",
       "mean                 23.677646  \n",
       "std                   8.397821  \n",
       "min                   6.120000  \n",
       "25%                  17.480000  \n",
       "50%                  21.600000  \n",
       "75%                  29.970000  \n",
       "max                  47.800000  "
      ]
     },
     "execution_count": 18,
     "metadata": {},
     "output_type": "execute_result"
    }
   ],
   "source": [
    "df.describe()  #gives a summary of descriptive statistics for the dataframe across all columns"
   ]
  },
  {
   "cell_type": "markdown",
   "metadata": {},
   "source": [
    "**Evaluation:** Let us consider what this tells us about the data:\n",
    "- **Data model:** These 4 metrics are indeed what we are interested to monitor. As to the units: degrees celsius for air temperature is perfectly comprehensible, and soil moisture as a percentage makes sense... But the light column does not specify units, though it is labelled as both \"live lux\" and \"average klux\" on the Flower Power app.  As for fertilizer level: this one is a mystery, as no hint is given anywhere in the software as to units of measure or how values are calculated.\n",
    "- **Time dimension:**  The data appears to have been logged at precise 15 minute intervals, using UTC (Co-Ordinated Universal Time) values -that is one hour behind our local time in Portugal (easily converted by pandas on-the-fly, if we specify our locality).  As to latency: there appears to be no appreciable delay between the time when data is uploaded and when it becomes available for download, but then the timestamp of last record is a few hours old.  Also: some hours will elapse before it shows up on the GROW observatory website.\n",
    "- **Data integrity/ accuracy:** In the absence of any reference values[3], about all we can do is a common-sense reasonability check.  Considering: \n",
    "    - _*Temperature:*_ Average (i.e. mean) temperature seems reasonable for the last month, as does the minimum value.  The maximum value is surprising;  hard to imagine how temperature around this sensor could have reached 55 degrees, even on the hottest day.  But considering the values at 25/50/75 percentile rank, and the standard deviation, it seems the values follow a reasonably normal distribution, so that max value looks like an anomaly we should perhaps examine more closely.\n",
    "    - _*Soil Moisture:*_ The percentages seems to fall within a reasonable range, considering that there was significant rainfall toward the end of the period; this being probably the most critical indicator for our purposes, we'll dig into this one more deeply in a moment.\n",
    "    - _*Light:*_ I don't know enough about light measurement to say if these values are reasonable, but what i can say is that the meter value drops in real-time as my shadow falls over the sensor, and the graph displays peaks and valleys every day and night (respectively), as you would expect (also true for the Temperature reading, NB).\n",
    "    - _*Fertilizer Level:*_ Don't know what to make of this one... But it is not so critical for immediate purposes.\n",
    "\n",
    "So: Soil Moisture being the metric that we're most concerned to monitor, let's look at those values in a comprehensible form -i.e. daily average, probably good enough."
   ]
  },
  {
   "cell_type": "code",
   "execution_count": 19,
   "metadata": {},
   "outputs": [
    {
     "name": "stdout",
     "output_type": "stream",
     "text": [
      "last full day's average soil moisture % =  17.970520833333318\n",
      "\n",
      "daily average soil moisture % for the last month = (date | value) : \n"
     ]
    },
    {
     "data": {
      "text/plain": [
       "capture_datetime_utc\n",
       "2018-08-16     7.556818\n",
       "2018-08-17     7.518854\n",
       "2018-08-18     7.578750\n",
       "2018-08-19     7.529167\n",
       "2018-08-20     7.442083\n",
       "2018-08-21     7.450104\n",
       "2018-08-22     7.369792\n",
       "2018-08-23     7.252604\n",
       "2018-08-24     7.142812\n",
       "2018-08-25     7.090417\n",
       "2018-08-26     7.007187\n",
       "2018-08-27     6.948333\n",
       "2018-08-28     6.927187\n",
       "2018-08-29     7.012917\n",
       "2018-08-30     6.993021\n",
       "2018-08-31     7.066458\n",
       "2018-09-01     7.044583\n",
       "2018-09-02     7.106354\n",
       "2018-09-03     7.128646\n",
       "2018-09-04     7.116562\n",
       "2018-09-05     7.127292\n",
       "2018-09-06     7.177292\n",
       "2018-09-07     7.080312\n",
       "2018-09-08     7.086250\n",
       "2018-09-09     7.087083\n",
       "2018-09-10     7.115937\n",
       "2018-09-11     7.133437\n",
       "2018-09-12     7.116771\n",
       "2018-09-13     7.111354\n",
       "2018-09-14     7.019792\n",
       "                ...    \n",
       "2018-10-16    15.638854\n",
       "2018-10-17    15.526458\n",
       "2018-10-18    16.507083\n",
       "2018-10-19    22.403333\n",
       "2018-10-20    21.548021\n",
       "2018-10-21    20.683646\n",
       "2018-10-22    20.132812\n",
       "2018-10-23    19.332708\n",
       "2018-10-24    18.865312\n",
       "2018-10-25    18.274896\n",
       "2018-10-26    17.970521\n",
       "2018-10-27    17.989167\n",
       "2018-10-28    17.564479\n",
       "2018-10-29    17.114063\n",
       "2018-10-30    24.855312\n",
       "2018-10-31    29.983021\n",
       "2018-11-01    27.631875\n",
       "2018-11-02    25.667917\n",
       "2018-11-03    24.239688\n",
       "2018-11-04    23.345521\n",
       "2018-11-05    24.075625\n",
       "2018-11-06    22.912292\n",
       "2018-11-07    22.636042\n",
       "2018-11-08    22.423854\n",
       "2018-11-09    21.987813\n",
       "2018-11-10    21.373958\n",
       "2018-11-11    20.996250\n",
       "2018-11-12    20.908854\n",
       "2018-11-13    20.385208\n",
       "2018-11-14    19.936429\n",
       "Freq: D, Name: soil_moisture_percent, Length: 91, dtype: float64"
      ]
     },
     "execution_count": 19,
     "metadata": {},
     "output_type": "execute_result"
    }
   ],
   "source": [
    "#average moisture reading as of the last full day (NB: July 18 was partial, as data was downloaded that afternoon.)\n",
    "print(\"last full day's average soil moisture % = \",df[\"2018-10-26\"].soil_moisture_percent.mean())\n",
    "print (\"\")\n",
    "#daily average moisture readings since sensor bootup\n",
    "print (\"daily average soil moisture % for the last month = (date | value) : \")\n",
    "df.soil_moisture_percent.resample('D').mean()"
   ]
  },
  {
   "cell_type": "code",
   "execution_count": 20,
   "metadata": {},
   "outputs": [
    {
     "data": {
      "text/plain": [
       "<matplotlib.axes._subplots.AxesSubplot at 0x126629a90>"
      ]
     },
     "execution_count": 20,
     "metadata": {},
     "output_type": "execute_result"
    },
    {
     "data": {
      "image/png": "[encoded data removed]",
      "text/plain": [
       "<Figure size 432x288 with 1 Axes>"
      ]
     },
     "metadata": {
      "needs_background": "light"
     },
     "output_type": "display_data"
    }
   ],
   "source": [
    "%matplotlib inline\n",
    "df.soil_moisture_percent.resample('D').mean().plot(kind='line')\n",
    "# a graphical plot of those daily average moisture values"
   ]
  },
  {
   "cell_type": "markdown",
   "metadata": {},
   "source": [
    "These values seem reasonable (although dangerously low for much of the period, according to the Flower Power app [4]), and do reflect some quite significant changes, which is reasonable, considering those few days with significant rainfall toward the end of the period.\n",
    "\n",
    "For more insight, let's pull a graph of the fully granular (i.e. 15 minute interval) data."
   ]
  },
  {
   "cell_type": "code",
   "execution_count": 21,
   "metadata": {},
   "outputs": [
    {
     "data": {
      "text/plain": [
       "<matplotlib.axes._subplots.AxesSubplot at 0x122a2bb38>"
      ]
     },
     "execution_count": 21,
     "metadata": {},
     "output_type": "execute_result"
    },
    {
     "data": {
      "image/png": "[encoded data removed]",
      "text/plain": [
       "<Figure size 432x288 with 1 Axes>"
      ]
     },
     "metadata": {
      "needs_background": "light"
     },
     "output_type": "display_data"
    }
   ],
   "source": [
    "%matplotlib inline\n",
    "df.soil_moisture_percent.plot(kind='line')\n",
    "# a plot of that moisture history with full granularity (i.e. 15-min intervals)"
   ]
  },
  {
   "cell_type": "markdown",
   "metadata": {},
   "source": [
    "Interesting!  Note how daily avg SM value is kicking around between low 13.x and high 14.x from boot-up on Aug 17 until Oct 15, when it spikes to high 30's, drops very rapidly, spikes again to near 40, but then tails off at a slower rate... Still in the high 20's, which value i expect it will retain as a minimum until the rainy season is past."
   ]
  },
  {
   "cell_type": "markdown",
   "metadata": {},
   "source": [
    "### CONCLUSIONS: notes and questions for further study\n",
    "\n",
    "#### Notes:\n",
    "[1] There is some doubt about impermeability of the battery compartment, per [Amazon product reviews](https://www.amazon.com/gp/customer-reviews/R3LHX6X69XHFR/ref=cm_cr_dp_d_rvw_ttl?ie=UTF8&ASIN=B00FOM2Y6W), along with other issues (esp. problems after firmware update) [discussed in the online user support forums](https://community.parrot.com/t5/Flower-Power/Flower-Power-fails-to-read-mositure-after-update-to-v2-02/m-p/149164) hosted by Parrot company -OEM of the Flower Power hardware and software, who has [officially abandoned support of the product](https://community.parrot.com/t5/Flower-Power/End-of-support-Removing-Parrot-Flower-Power-from-IFTTT/m-p/165883).  Though GROW Observatory appears to have assumed responsibility for support, it is unclear at this point if this extends to the mobile app and/or the sensor hardware and firmware.\n",
    "\n",
    "[2] Regarding the [sensor visualization page](https://hub.growobservatory.org/my-data/sensors/) and its current limitations, there is now [a forum thread describing the issues](https://hub.growobservatory.org/discussion/sensor-data-visualization-page), along with response from GROW Observatory support team indicating that they are aware of the issues (still open as of this writing) and are working to solve them.\n",
    "\n",
    "[3] We are getting data from each sensor as its own .csv file... Which means that data from these files must be joined, in order to analyse conditions across sensors (and different GROW sites, potentially) along the axis of time.  CAUTION:  this could be an expensive join!  We may want to concatenate these files, for the purposes of such analysis. \n",
    "\n",
    "[4] The Flower Power app contains a database of some >6k plants, whose needs are taken into account in giving to the user information about whether plant is getting too little or too much water/ fertilizer/ light/ temperature (could be very handy for JIT -i.e. precision agriculture- interventions).  This feature does not appear to be reflected in the \"My Sensors\" page at GROWobservatory.org.\n",
    "\n",
    "#### Remaining Questions:\n",
    "\n",
    "1. Sensor Fidelity: to confirm accuracy of readings, can we replicate results across two sensors placed in essentially identical conditions, with sensor boot-up at essentially the same time?\n",
    "2. Timing: to collect and upload data from a single sensor, proceding with minimal delay to the next, repeat ad (n)finitum: how much time per sensor-visit is required? to what extent can we minimze latency between these operations? and\n",
    "3. How can we correlate data along the time dimension? rounding off to the nearest common interval?\n",
    "\n",
    "#### Next Steps:\n",
    "Considering the importance of these questions, as they relate to the farm's primary motivation in this project (i.e. using the gathered data to inform better farm management decisions), it seems prudent to get them answered -again, with minimal investment of resources- before scaling up to full deployment.  So we will proceed to conduct a second test, using several more sensors placed for ease of deployment/ monitoring on the farm -documentation of same to be posted at [the github repository](https://github.com/ludwa6/Analysing-SSM) that host's this project's documentation."
   ]
  },
  {
   "cell_type": "code",
   "execution_count": null,
   "metadata": {},
   "outputs": [],
   "source": []
  }
 ],
 "metadata": {
  "kernelspec": {
   "display_name": "Python 3",
   "language": "python",
   "name": "python3"
  },
  "language_info": {
   "codemirror_mode": {
    "name": "ipython",
    "version": 3
   },
   "file_extension": ".py",
   "mimetype": "text/x-python",
   "name": "python",
   "nbconvert_exporter": "python",
   "pygments_lexer": "ipython3",
   "version": "3.6.6"
  }
 },
 "nbformat": 4,
 "nbformat_minor": 2
}
