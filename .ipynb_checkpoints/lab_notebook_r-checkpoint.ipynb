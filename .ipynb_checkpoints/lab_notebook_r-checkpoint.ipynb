{
 "cells": [
  {
   "cell_type": "markdown",
   "metadata": {},
   "source": [
    "## Analysing SSM in R\n",
    "Adding a JupyterLab Notebook, empowered with R, to Francesco's repo"
   ]
  },
  {
   "cell_type": "code",
   "execution_count": 8,
   "metadata": {},
   "outputs": [],
   "source": [
    "library(viridis) # nice color palette\n",
    "#library(ggmap) # ggplot functionality for maps\n",
    "library(dplyr) # use for fixing up data\n",
    "library(readr) # reading in data/csv\n",
    "library(RColorBrewer) # for color palettes\n",
    "library(purrr) # for mapping over a function\n",
    "#library(magick) # this is call to animate/read pngs\n",
    "\n",
    "library(maptools)\n",
    "#library(gpclib)\n",
    "#library(rgdal)\n",
    "library(ggplot2)\n",
    "library(sp)\n",
    "#library(RStoolbox)\n",
    "# library(plotly)\n",
    "# library(gapminder)\n",
    "library(data.table)\n",
    "library(stringr)\n",
    "#library(RgoogleMaps)\n",
    "library(lubridate)\n",
    "library(raster)\n",
    "#library(rasterVis)"
   ]
  },
  {
   "cell_type": "code",
   "execution_count": null,
   "metadata": {},
   "outputs": [],
   "source": []
  }
 ],
 "metadata": {
  "kernelspec": {
   "display_name": "R",
   "language": "R",
   "name": "ir"
  },
  "language_info": {
   "codemirror_mode": "r",
   "file_extension": ".r",
   "mimetype": "text/x-r-source",
   "name": "R",
   "pygments_lexer": "r",
   "version": "3.5.1"
  }
 },
 "nbformat": 4,
 "nbformat_minor": 2
}
