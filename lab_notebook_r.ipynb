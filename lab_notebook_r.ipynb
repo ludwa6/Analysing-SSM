{
 "cells": [
  {
   "cell_type": "markdown",
   "metadata": {},
   "source": [
    "## Analysing SSM in R\n",
    "An attempt at porting over [some R code](https://github.com/checcomi/valeDaLama/blob/master/procData.r) into a Jupyter Notebook\n",
    "\n",
    "First, we load the libraries -commenting out those that i was unable to load using Anaconda package manager (NB: Anaconda tells me that both plotly and r-plotly ARE installed... but it threw an error, for reasons i don't understand, so it gets commented out)."
   ]
  },
  {
   "cell_type": "code",
   "execution_count": 1,
   "metadata": {},
   "outputs": [
    {
     "name": "stderr",
     "output_type": "stream",
     "text": [
      "Loading required package: viridisLite\n",
      "Loading required package: ggplot2\n",
      "\n",
      "Attaching package: ‘dplyr’\n",
      "\n",
      "The following objects are masked from ‘package:stats’:\n",
      "\n",
      "    filter, lag\n",
      "\n",
      "The following objects are masked from ‘package:base’:\n",
      "\n",
      "    intersect, setdiff, setequal, union\n",
      "\n",
      "Linking to ImageMagick 6.9.9.39\n",
      "Enabled features: cairo, fontconfig, freetype, lcms, pango, rsvg, webp\n",
      "Disabled features: fftw, ghostscript, x11\n",
      "Loading required package: sp\n"
     ]
    },
    {
     "ename": "ERROR",
     "evalue": "Error: package or namespace load failed for ‘maptools’ in dyn.load(file, DLLpath = DLLpath, ...):\n unable to load shared object '/Users/walterludwick/anaconda3/lib/R/library/foreign/libs/foreign.so':\n  dlopen(/Users/walterludwick/anaconda3/lib/R/library/foreign/libs/foreign.so, 6): Symbol not found: _libintl_dgettext\n  Referenced from: /Users/walterludwick/anaconda3/lib/R/library/foreign/libs/foreign.so\n  Expected in: /Users/walterludwick/anaconda3/lib/R/lib/libR.dylib\n in /Users/walterludwick/anaconda3/lib/R/library/foreign/libs/foreign.so\n",
     "execution_count": 1,
     "output_type": "error",
     "traceback": [
      "Error: package or namespace load failed for ‘maptools’ in dyn.load(file, DLLpath = DLLpath, ...):\n unable to load shared object '/Users/walterludwick/anaconda3/lib/R/library/foreign/libs/foreign.so':\n  dlopen(/Users/walterludwick/anaconda3/lib/R/library/foreign/libs/foreign.so, 6): Symbol not found: _libintl_dgettext\n  Referenced from: /Users/walterludwick/anaconda3/lib/R/library/foreign/libs/foreign.so\n  Expected in: /Users/walterludwick/anaconda3/lib/R/lib/libR.dylib\n in /Users/walterludwick/anaconda3/lib/R/library/foreign/libs/foreign.so\nTraceback:\n",
      "1. library(maptools)",
      "2. tryCatch({\n .     attr(package, \"LibPath\") <- which.lib.loc\n .     ns <- loadNamespace(package, lib.loc)\n .     env <- attachNamespace(ns, pos = pos, deps)\n . }, error = function(e) {\n .     P <- if (!is.null(cc <- conditionCall(e))) \n .         paste(\" in\", deparse(cc)[1L])\n .     else \"\"\n .     msg <- gettextf(\"package or namespace load failed for %s%s:\\n %s\", \n .         sQuote(package), P, conditionMessage(e))\n .     if (logical.return) \n .         message(paste(\"Error:\", msg), domain = NA)\n .     else stop(msg, call. = FALSE, domain = NA)\n . })",
      "3. tryCatchList(expr, classes, parentenv, handlers)",
      "4. tryCatchOne(expr, names, parentenv, handlers[[1L]])",
      "5. value[[3L]](cond)",
      "6. stop(msg, call. = FALSE, domain = NA)"
     ]
    }
   ],
   "source": [
    "library(viridis) # nice color palette\n",
    "library(ggmap) # ggplot functionality for maps\n",
    "library(dplyr) # use for fixing up data\n",
    "library(readr) # reading in data/csv\n",
    "library(RColorBrewer) # for color palettes\n",
    "library(purrr) # for mapping over a function\n",
    "library(magick) # this is call to animate/read pngs\n",
    "\n",
    "library(maptools)\n",
    "library(gpclib)\n",
    "library(rgdal)\n",
    "library(ggplot2)\n",
    "library(sp)\n",
    "library(RStoolbox)\n",
    "library(plotly)\n",
    "library(gapminder)\n",
    "library(data.table)\n",
    "library(stringr)\n",
    "library(RgoogleMaps)\n",
    "library(lubridate)\n",
    "library(raster)\n",
    "library(rasterVis)"
   ]
  },
  {
   "cell_type": "code",
   "execution_count": null,
   "metadata": {},
   "outputs": [],
   "source": []
  }
 ],
 "metadata": {
  "kernelspec": {
   "display_name": "R",
   "language": "R",
   "name": "ir"
  },
  "language_info": {
   "codemirror_mode": "r",
   "file_extension": ".r",
   "mimetype": "text/x-r-source",
   "name": "R",
   "pygments_lexer": "r",
   "version": "3.5.1"
  }
 },
 "nbformat": 4,
 "nbformat_minor": 2
}
